{
  "cells": [
    {
      "cell_type": "code",
      "execution_count": 3,
      "id": "cf515a92",
      "metadata": {
        "id": "cf515a92"
      },
      "outputs": [],
      "source": [
        "import io\n",
        "import os\n",
        "import unicodedata\n",
        "import string\n",
        "import glob\n",
        "import torch\n",
        "import torch.nn as nn\n",
        "import matplotlib.pyplot as plt\n",
        "import random"
      ]
    },
    {
      "cell_type": "code",
      "execution_count": 4,
      "id": "2f49aab5",
      "metadata": {
        "id": "2f49aab5"
      },
      "outputs": [],
      "source": [
        "ALL_LETTERS = string.ascii_letters + \".,;\"\n",
        "N_LETTERS = len(ALL_LETTERS)"
      ]
    },
    {
      "cell_type": "code",
      "execution_count": 5,
      "id": "f335fa11",
      "metadata": {
        "id": "f335fa11"
      },
      "outputs": [],
      "source": [
        "def unicode_to_ascii(s):\n",
        "    return''.join(\n",
        "        c for c in unicodedata.normalize('NFD' , s)\n",
        "        if unicodedata.category(c) != 'Mn'\n",
        "        and c in ALL_LETTERS\n",
        "    )"
      ]
    },
    {
      "cell_type": "code",
      "source": [
        "from google.colab import drive\n",
        "drive.mount('/content/gdrive')"
      ],
      "metadata": {
        "colab": {
          "base_uri": "https://localhost:8080/"
        },
        "id": "nn3xaY66E30X",
        "outputId": "3d902f73-6fb8-4a89-b976-f09a919c611f"
      },
      "id": "nn3xaY66E30X",
      "execution_count": 6,
      "outputs": [
        {
          "output_type": "stream",
          "name": "stdout",
          "text": [
            "Mounted at /content/gdrive\n"
          ]
        }
      ]
    },
    {
      "cell_type": "code",
      "execution_count": 7,
      "id": "4c98aa2c",
      "metadata": {
        "id": "4c98aa2c"
      },
      "outputs": [],
      "source": [
        "def load_data():\n",
        "    category_lines = {}\n",
        "    all_categories = []\n",
        "\n",
        "    def find_files(path):\n",
        "        return glob.glob(path)\n",
        "\n",
        "    def read_lines(file_name):\n",
        "        lines = io.open(file_name, encoding ='utf-8').read().strip().split('\\n')\n",
        "        return [unicode_to_ascii(line) for line in lines]\n",
        "\n",
        "    for file_name in find_files('/content/drive/MyDrive/Data sets(GP)/names/*.txt'):\n",
        "        category = os.path.splitext(os.path.basename(file_name))[0]\n",
        "        all_categories.append(category)\n",
        "\n",
        "        lines = read_lines(file_name)\n",
        "        category_lines[category] = lines\n",
        "\n",
        "    return category_lines, all_categories"
      ]
    },
    {
      "cell_type": "code",
      "source": [
        "from google.colab import drive\n",
        "drive.mount('/content/drive')"
      ],
      "metadata": {
        "colab": {
          "base_uri": "https://localhost:8080/"
        },
        "id": "3r39J90hFKQs",
        "outputId": "a826f65a-50b3-4f79-e4ab-4e01afea38ae"
      },
      "id": "3r39J90hFKQs",
      "execution_count": 8,
      "outputs": [
        {
          "output_type": "stream",
          "name": "stdout",
          "text": [
            "Mounted at /content/drive\n"
          ]
        }
      ]
    },
    {
      "cell_type": "code",
      "execution_count": 9,
      "id": "3afd3d23",
      "metadata": {
        "id": "3afd3d23"
      },
      "outputs": [],
      "source": [
        "def letter_to_index(letter):\n",
        "    return ALL_LETTERS.find(letter)"
      ]
    },
    {
      "cell_type": "code",
      "execution_count": 10,
      "id": "eddc6e77",
      "metadata": {
        "id": "eddc6e77"
      },
      "outputs": [],
      "source": [
        "def letter_to_tensor(letter):\n",
        "    tensor = torch.zeros(1, N_LETTERS)\n",
        "    tensor[0][letter_to_index(letter)] = 1\n",
        "    return tensor"
      ]
    },
    {
      "cell_type": "code",
      "execution_count": 11,
      "id": "6544da4e",
      "metadata": {
        "id": "6544da4e"
      },
      "outputs": [],
      "source": [
        "def line_to_tensor(line):\n",
        "    tensor = torch.zeros(len(line), 1,N_LETTERS)\n",
        "    for i, letter in enumerate(line):\n",
        "        tensor[i][0][letter_to_index(letter)] = 1\n",
        "    return tensor\n"
      ]
    },
    {
      "cell_type": "code",
      "execution_count": 12,
      "id": "c5ef13ec",
      "metadata": {
        "id": "c5ef13ec"
      },
      "outputs": [],
      "source": [
        "def random_training_example(category_lines, all_categories):\n",
        "\n",
        "    def random_choice(a):\n",
        "        random_idx = random.randint(0, len(a)-1)\n",
        "        return a[random_idx]\n",
        "\n",
        "    category = random_choice(all_categories)\n",
        "    line = random_choice(category_lines[category])\n",
        "    category_tensor = torch.tensor([all_categories.index(category)], dtype = torch.long)\n",
        "    line_tensor = line_to_tensor(line)\n",
        "\n",
        "    return category, line, category_tensor, line_tensor\n",
        "\n"
      ]
    },
    {
      "cell_type": "code",
      "execution_count": 13,
      "id": "2d0be661",
      "metadata": {
        "id": "2d0be661",
        "outputId": "99c415b6-8ec8-4018-c059-28bb360c9698",
        "colab": {
          "base_uri": "https://localhost:8080/"
        }
      },
      "outputs": [
        {
          "output_type": "stream",
          "name": "stdout",
          "text": [
            "abcdefghijklmnopqrstuvwxyzABCDEFGHIJKLMNOPQRSTUVWXYZ.,;\n",
            "Slusarski\n"
          ]
        }
      ],
      "source": [
        "print(ALL_LETTERS)\n",
        "print(unicode_to_ascii('Ślusarski'))"
      ]
    },
    {
      "cell_type": "code",
      "execution_count": 14,
      "id": "184fcafc",
      "metadata": {
        "scrolled": true,
        "id": "184fcafc"
      },
      "outputs": [],
      "source": [
        "category_lines, all_categories = load_data()"
      ]
    },
    {
      "cell_type": "code",
      "execution_count": 15,
      "id": "aeb026f7",
      "metadata": {
        "id": "aeb026f7",
        "outputId": "189c6cff-0c27-4de4-9dbe-4567d645c404",
        "colab": {
          "base_uri": "https://localhost:8080/"
        }
      },
      "outputs": [
        {
          "output_type": "stream",
          "name": "stdout",
          "text": [
            "['Chinese', 'Dutch', 'Arabic', 'English', 'French', 'Czech', 'Irish', 'Spanish', 'Portuguese', 'Polish', 'Japanese', 'Italian', 'Scottish', 'German', 'Russian', 'Greek', 'Vietnamese', 'Korean']\n"
          ]
        }
      ],
      "source": [
        "print(all_categories)"
      ]
    },
    {
      "cell_type": "code",
      "execution_count": 16,
      "id": "9179b448",
      "metadata": {
        "id": "9179b448",
        "outputId": "dc12e1c4-e8fa-4165-a7f2-8563f07b49c7",
        "colab": {
          "base_uri": "https://localhost:8080/"
        }
      },
      "outputs": [
        {
          "output_type": "stream",
          "name": "stdout",
          "text": [
            "Chinese: 268 lines\n",
            "Dutch: 297 lines\n",
            "Arabic: 2000 lines\n",
            "English: 3668 lines\n",
            "French: 277 lines\n",
            "Czech: 519 lines\n",
            "Irish: 232 lines\n",
            "Spanish: 298 lines\n",
            "Portuguese: 74 lines\n",
            "Polish: 139 lines\n",
            "Japanese: 991 lines\n",
            "Italian: 709 lines\n",
            "Scottish: 100 lines\n",
            "German: 724 lines\n",
            "Russian: 9408 lines\n",
            "Greek: 203 lines\n",
            "Vietnamese: 73 lines\n",
            "Korean: 94 lines\n"
          ]
        }
      ],
      "source": [
        "for category, lines in category_lines.items():\n",
        "    print(f\"{category}: {len(lines)} lines\")\n"
      ]
    },
    {
      "cell_type": "code",
      "execution_count": 17,
      "id": "279d304c",
      "metadata": {
        "id": "279d304c",
        "outputId": "dcab2fe8-ddf9-421f-cf84-cdf96f5d7e2d",
        "colab": {
          "base_uri": "https://localhost:8080/"
        }
      },
      "outputs": [
        {
          "output_type": "stream",
          "name": "stdout",
          "text": [
            "['Abandonato', 'Abatangelo', 'Abatantuono', 'Abate', 'Abategiovanni']\n"
          ]
        }
      ],
      "source": [
        "print(category_lines['Italian'][:5])\n"
      ]
    },
    {
      "cell_type": "code",
      "execution_count": 18,
      "id": "b45ae995",
      "metadata": {
        "id": "b45ae995"
      },
      "outputs": [],
      "source": [
        "class RNN(nn.Module):\n",
        "    def __init__(self, input_size, hidden_size, output_size):\n",
        "        super(RNN, self).__init__()\n",
        "        self.hidden_size = hidden_size\n",
        "        self.i2h = nn.Linear(hidden_size + input_size, hidden_size)\n",
        "        self.i2o = nn.Linear(hidden_size + input_size, output_size)\n",
        "        self.softmax = nn.LogSoftmax(dim = 1)\n",
        "\n",
        "    def forward(self, input_tensor, hidden_tensor):\n",
        "\n",
        "        combined = torch.cat((input_tensor, hidden_tensor), 1)\n",
        "\n",
        "        hidden = self.i2h(combined)\n",
        "        output = self.i2o(combined)\n",
        "        output = self.softmax(output)\n",
        "\n",
        "        return output, hidden\n",
        "\n",
        "    def init_hidden(self):\n",
        "        return torch.zeros(1, self.hidden_size)\n",
        "\n",
        "\n",
        "\n",
        "\n",
        "\n"
      ]
    },
    {
      "cell_type": "code",
      "execution_count": 19,
      "id": "5a01e59c",
      "metadata": {
        "id": "5a01e59c",
        "outputId": "8d71445e-1287-4762-a218-2345930ce585",
        "colab": {
          "base_uri": "https://localhost:8080/"
        }
      },
      "outputs": [
        {
          "output_type": "stream",
          "name": "stdout",
          "text": [
            "18\n"
          ]
        }
      ],
      "source": [
        "category_lines, all_categories = load_data()\n",
        "n_categories = len(all_categories)\n",
        "print(n_categories)"
      ]
    },
    {
      "cell_type": "code",
      "execution_count": 20,
      "id": "8efe8170",
      "metadata": {
        "id": "8efe8170",
        "outputId": "5da9b1b1-6f73-4fed-c8f7-959f81e9de9e",
        "colab": {
          "base_uri": "https://localhost:8080/"
        }
      },
      "outputs": [
        {
          "output_type": "stream",
          "name": "stdout",
          "text": [
            "torch.Size([1, 18])\n",
            "torch.Size([1, 128])\n"
          ]
        }
      ],
      "source": [
        "n_hidden = 128\n",
        "rnn = RNN(N_LETTERS, n_hidden, n_categories)\n",
        "input_tensor = letter_to_tensor('A')\n",
        "hidden_tensor = rnn.init_hidden()\n",
        "output, next_hidden = rnn(input_tensor, hidden_tensor)\n",
        "print(output.size())\n",
        "print(next_hidden.size())"
      ]
    },
    {
      "cell_type": "code",
      "execution_count": 21,
      "id": "32b95f02",
      "metadata": {
        "scrolled": true,
        "id": "32b95f02",
        "outputId": "65a96395-7f65-4b5c-bf5a-4860d07e742b",
        "colab": {
          "base_uri": "https://localhost:8080/"
        }
      },
      "outputs": [
        {
          "output_type": "stream",
          "name": "stdout",
          "text": [
            "torch.Size([1, 18])\n",
            "torch.Size([1, 128])\n"
          ]
        }
      ],
      "source": [
        "input_tensor = line_to_tensor('Albret')\n",
        "hidden_tensor = rnn.init_hidden()\n",
        "\n",
        "output, next_hidden = rnn(input_tensor[0], hidden_tensor)\n",
        "print(output.size())\n",
        "print(next_hidden.size())"
      ]
    },
    {
      "cell_type": "code",
      "execution_count": 22,
      "id": "589f6c6c",
      "metadata": {
        "id": "589f6c6c"
      },
      "outputs": [],
      "source": [
        "def category_from_output(output):\n",
        "    category_idx = torch.argmax(output).item()\n",
        "    return all_categories[category_idx]"
      ]
    },
    {
      "cell_type": "code",
      "execution_count": 23,
      "id": "ffd6c71a",
      "metadata": {
        "id": "ffd6c71a",
        "outputId": "55ddd271-c5e2-4c3c-b1e4-f85ba2286834",
        "colab": {
          "base_uri": "https://localhost:8080/"
        }
      },
      "outputs": [
        {
          "output_type": "stream",
          "name": "stdout",
          "text": [
            "English\n"
          ]
        }
      ],
      "source": [
        "print(category_from_output(output))"
      ]
    },
    {
      "cell_type": "code",
      "execution_count": 24,
      "id": "f4effcaa",
      "metadata": {
        "id": "f4effcaa"
      },
      "outputs": [],
      "source": [
        "criterion = nn.NLLLoss()\n",
        "learning_rate = 0.005\n",
        "optimizer = torch.optim.SGD(rnn.parameters(), lr = learning_rate )"
      ]
    },
    {
      "cell_type": "code",
      "execution_count": 25,
      "id": "427987de",
      "metadata": {
        "id": "427987de"
      },
      "outputs": [],
      "source": [
        "def train(line_tensor, category_tensor):\n",
        "    hidden = rnn.init_hidden()\n",
        "    for i in range(line_tensor.size()[0]):\n",
        "        output,hidden = rnn(line_tensor[i], hidden)\n",
        "\n",
        "    loss = criterion(output,category_tensor)\n",
        "\n",
        "    optimizer.zero_grad()\n",
        "    loss.backward()\n",
        "    optimizer.step()\n",
        "\n",
        "    return output, loss.item()"
      ]
    },
    {
      "cell_type": "code",
      "execution_count": 26,
      "id": "3e824722",
      "metadata": {
        "id": "3e824722",
        "outputId": "5027a62d-71a7-434c-aa85-ed825b69da16",
        "colab": {
          "base_uri": "https://localhost:8080/",
          "height": 1000
        }
      },
      "outputs": [
        {
          "output_type": "stream",
          "name": "stdout",
          "text": [
            "999 0.19980000000000003 2.6894 Panayiotopoulos / Greek CORRECT\n",
            "1999 0.3998 2.5553 Pasternack / Polish CORRECT\n",
            "2999 0.5998 2.9732 Swango / Portuguese WRONG(German)\n",
            "3999 0.7998 2.9005 Hunter / German WRONG(Scottish)\n",
            "4999 0.9998 2.2243 Bandini / Italian CORRECT\n",
            "5999 1.1998 1.7128 Rao / Chinese CORRECT\n",
            "6999 1.3998 1.4837 Shin / Korean CORRECT\n",
            "7999 1.5997999999999999 2.7825 Arihyoshi / Polish WRONG(Japanese)\n",
            "8999 1.7998 2.5918 OCallaghann / Scottish WRONG(Irish)\n",
            "9999 1.9997999999999998 2.4923 Vega / Chinese WRONG(Spanish)\n",
            "10999 2.1998 2.9919 Scott / French WRONG(Scottish)\n",
            "11999 2.3998 1.1841 Pavoni / Italian CORRECT\n",
            "12999 2.5998 0.4947 Sniegowski / Polish CORRECT\n",
            "13999 2.7998 2.3451 Aggi / Chinese WRONG(Italian)\n",
            "14999 2.9998 2.9909 Godwin / Irish WRONG(English)\n",
            "15999 3.1997999999999998 2.7336 Tillens / Dutch WRONG(German)\n",
            "16999 3.3998 4.0974 Daal / Vietnamese WRONG(Dutch)\n",
            "17999 3.5998 2.1747 Sarkis / Greek WRONG(Arabic)\n",
            "18999 3.7998 0.5705 Paterson / Scottish CORRECT\n",
            "19999 3.9998 1.4154 Ankeren / Dutch CORRECT\n",
            "20999 4.1998 2.0479 Henriques / Dutch WRONG(Portuguese)\n",
            "21999 4.3998 2.1110 Alldritt / Italian WRONG(English)\n",
            "22999 4.5998 1.3412 Klimek / Polish CORRECT\n",
            "23999 4.7998 0.6728 Demakis / Greek CORRECT\n",
            "24999 4.9998000000000005 0.2783 Kyritsis / Greek CORRECT\n",
            "25999 5.199800000000001 3.0829 Close / Irish WRONG(Greek)\n",
            "26999 5.3998 1.7673 Baik / Korean CORRECT\n",
            "27999 5.5998 2.5617 Simon / Russian WRONG(Irish)\n",
            "28999 5.7998 2.7404 Souza / Arabic WRONG(Portuguese)\n",
            "29999 5.9998000000000005 1.9520 Gallo / Italian WRONG(Spanish)\n",
            "30999 6.1998 2.3589 Cruz / Spanish WRONG(Portuguese)\n",
            "31999 6.3998 0.6081 Lippi / Italian CORRECT\n",
            "32999 6.5998 2.8696 Walker / Dutch WRONG(Scottish)\n",
            "33999 6.7998 1.3831 Youj / Chinese WRONG(Korean)\n",
            "34999 6.9998000000000005 3.6924 Nussbaum / Arabic WRONG(German)\n",
            "35999 7.199800000000001 0.5294 Bosko / Polish CORRECT\n",
            "36999 7.399799999999999 1.0004 Hamadullin / Russian CORRECT\n",
            "37999 7.599799999999999 1.0229 Calpis / Greek CORRECT\n",
            "38999 7.799799999999999 2.5823 Sokoloff / Russian WRONG(Polish)\n",
            "39999 7.9998 1.4621 Wizner / German WRONG(Czech)\n",
            "40999 8.1998 0.9517 Ko / Korean CORRECT\n",
            "41999 8.3998 4.5653 Shaw / Chinese WRONG(Scottish)\n",
            "42999 8.5998 4.5285 Pan / Vietnamese WRONG(French)\n",
            "43999 8.799800000000001 3.0706 Leblanc / Italian WRONG(French)\n",
            "44999 8.999799999999999 1.3400 Ma / Korean WRONG(Vietnamese)\n",
            "45999 9.1998 2.7882 Meier / German WRONG(Czech)\n",
            "46999 9.399799999999999 2.8982 Gerstle / English WRONG(German)\n",
            "47999 9.5998 1.3164 Zong / Korean WRONG(Chinese)\n",
            "48999 9.7998 2.6816 Smits / Portuguese WRONG(Dutch)\n",
            "49999 9.9998 2.0395 Blades / Portuguese WRONG(Greek)\n",
            "50999 10.1998 0.5120 Shammas / Arabic CORRECT\n",
            "51999 10.399799999999999 1.4670 Eccles / Spanish WRONG(English)\n",
            "52999 10.5998 1.9329 Zawisza / Czech WRONG(Polish)\n",
            "53999 10.7998 3.1947 Pesce / English WRONG(Italian)\n",
            "54999 10.9998 1.1019 Ho / Korean WRONG(Vietnamese)\n",
            "55999 11.1998 0.9003 Wegener / German CORRECT\n",
            "56999 11.3998 1.5405 Pavlik / Czech CORRECT\n",
            "57999 11.5998 1.2429 Araullo / Spanish WRONG(Portuguese)\n",
            "58999 11.799800000000001 1.1425 Aritza / Portuguese WRONG(Spanish)\n",
            "59999 11.999799999999999 3.0668 Kasai / Arabic WRONG(Japanese)\n",
            "60999 12.1998 2.3895 Villalobos / Greek WRONG(Spanish)\n",
            "61999 12.399799999999999 2.7939 Mcdonagh / Scottish WRONG(English)\n",
            "62999 12.5998 2.5343 Ritchie / French WRONG(Scottish)\n",
            "63999 12.7998 0.6334 Bonnaire / French CORRECT\n",
            "64999 12.9998 1.3538 Benitez / Polish WRONG(Spanish)\n",
            "65999 13.1998 1.6626 Vilaro / Italian WRONG(Spanish)\n",
            "66999 13.3998 0.3208 Vuu / Vietnamese CORRECT\n",
            "67999 13.5998 0.7447 Gaber / Arabic CORRECT\n",
            "68999 13.799800000000001 0.0705 Theofilopoulos / Greek CORRECT\n",
            "69999 13.9998 1.0606 Johnstone / Scottish CORRECT\n",
            "70999 14.199800000000002 0.7699 Sebastiani / Italian CORRECT\n",
            "71999 14.399799999999999 1.8314 Chieu / Vietnamese WRONG(Chinese)\n",
            "72999 14.599799999999998 1.8234 Geryk / Polish WRONG(Czech)\n",
            "73999 14.7998 0.9039 Quigley / Irish CORRECT\n",
            "74999 14.999799999999999 0.0476 Vylkov / Russian CORRECT\n",
            "75999 15.1998 0.1716 Vu / Vietnamese CORRECT\n",
            "76999 15.399799999999999 1.2282 Kennedy / Irish CORRECT\n",
            "77999 15.5998 0.1266 Thai / Vietnamese CORRECT\n",
            "78999 15.7998 2.1898 Hoang / Chinese WRONG(Vietnamese)\n",
            "79999 15.9998 1.1700 Huan / Chinese CORRECT\n",
            "80999 16.1998 1.2999 Kappel / Czech WRONG(Dutch)\n",
            "81999 16.3998 0.6330 Banh / Vietnamese CORRECT\n",
            "82999 16.599800000000002 0.1597 Tsushima / Japanese CORRECT\n",
            "83999 16.7998 1.5366 Riedel / Dutch WRONG(Czech)\n",
            "84999 16.9998 2.0977 Kuiper / German WRONG(Dutch)\n",
            "85999 17.1998 0.4162 Xiao / Chinese CORRECT\n",
            "86999 17.399800000000003 0.6584 Baiborodoff / Russian CORRECT\n",
            "87999 17.5998 1.5600 Denzel / Czech WRONG(German)\n",
            "88999 17.799799999999998 0.1064 Mustafa / Arabic CORRECT\n",
            "89999 17.9998 0.5229 Mersinias / Greek CORRECT\n",
            "90999 18.1998 0.0141 Mcdonald / Scottish CORRECT\n",
            "91999 18.3998 0.7287 Szwedko / Polish CORRECT\n",
            "92999 18.5998 0.0502 Watson / Scottish CORRECT\n",
            "93999 18.7998 0.7545 ODell / Irish CORRECT\n",
            "94999 18.9998 2.0328 Sai / Chinese WRONG(Vietnamese)\n",
            "95999 19.1998 1.6082 Hagias / Arabic WRONG(Greek)\n",
            "96999 19.3998 0.9328 Mansour / Arabic CORRECT\n",
            "97999 19.599800000000002 0.0140 Ishiyama / Japanese CORRECT\n",
            "98999 19.7998 2.9782 Grogan / Irish WRONG(English)\n",
            "99999 19.9998 0.0280 Than / Vietnamese CORRECT\n",
            "100999 20.1998 1.7508 Montero / Portuguese WRONG(Spanish)\n",
            "101999 20.399800000000003 1.2894 Quigley / English CORRECT\n",
            "102999 20.5998 2.9893 Franks / Polish WRONG(English)\n",
            "103999 20.799799999999998 0.9051 Eguchi / Japanese CORRECT\n",
            "104999 20.9998 3.0968 Peij / Chinese WRONG(Dutch)\n",
            "105999 21.1998 1.8071 Garza / Portuguese WRONG(Spanish)\n",
            "106999 21.3998 0.1451 Petri / Italian CORRECT\n",
            "107999 21.5998 0.0839 Novosiltsev / Russian CORRECT\n",
            "108999 21.7998 0.0204 Karkampasis / Greek CORRECT\n",
            "109999 21.9998 0.2190 Makuda / Japanese CORRECT\n",
            "110999 22.1998 0.1575 Shin / Korean CORRECT\n",
            "111999 22.3998 0.8973 Chin / Korean CORRECT\n",
            "112999 22.599800000000002 0.0164 Nakahara / Japanese CORRECT\n",
            "113999 22.7998 0.0324 Papoutsis / Greek CORRECT\n",
            "114999 22.9998 1.7226 Gebara / Arabic WRONG(Spanish)\n",
            "115999 23.1998 1.9291 Cattaneo / Spanish WRONG(Italian)\n",
            "116999 23.399800000000003 2.2987 Pan / Vietnamese WRONG(Chinese)\n",
            "117999 23.599800000000002 0.2764 Pontecorvo / Italian CORRECT\n",
            "118999 23.799799999999998 0.5285 Piatek / Polish CORRECT\n",
            "119999 23.9998 0.0250 Mikolajczak / Polish CORRECT\n",
            "120999 24.1998 3.2999 Skwor / Korean WRONG(Czech)\n",
            "121999 24.3998 0.8924 Pelletier / French CORRECT\n",
            "122999 24.5998 1.9590 Brodbeck / French WRONG(German)\n",
            "123999 24.7998 1.3542 Campos / Greek WRONG(Portuguese)\n",
            "124999 24.9998 1.0846 Araujo / Spanish WRONG(Portuguese)\n",
            "125999 25.1998 0.1224 Tsapov / Russian CORRECT\n",
            "126999 25.3998 0.0728 Vescovi / Italian CORRECT\n",
            "127999 25.599800000000002 0.5299 OKelly / Irish CORRECT\n",
            "128999 25.7998 2.1276 Pei / Korean WRONG(Chinese)\n",
            "129999 25.9998 0.6779 Saliba / Arabic CORRECT\n",
            "130999 26.1998 0.0852 Alberici / Italian CORRECT\n",
            "131999 26.399800000000003 1.3818 Cermak / Polish WRONG(Czech)\n",
            "132999 26.599800000000002 0.3325 Arechavaleta / Spanish CORRECT\n",
            "133999 26.7998 1.4117 Sabbagh / Spanish WRONG(Arabic)\n",
            "134999 26.9998 0.0373 Ramires / Portuguese CORRECT\n",
            "135999 27.199800000000003 1.3393 Nam / Vietnamese WRONG(Korean)\n",
            "136999 27.399800000000003 1.7613 Geryk / Polish WRONG(Czech)\n",
            "137999 27.599800000000002 0.7729 Sugawara / Japanese CORRECT\n",
            "138999 27.7998 0.2368 Riagain / Irish CORRECT\n",
            "139999 27.999800000000004 1.1317 Baumgartner / German CORRECT\n",
            "140999 28.199800000000003 3.3167 Mcnab / Scottish WRONG(Irish)\n",
            "141999 28.3998 0.0292 OHannagain / Irish CORRECT\n",
            "142999 28.5998 0.5565 Vega / Spanish CORRECT\n",
            "143999 28.799799999999998 2.6224 Johnstone / German WRONG(Scottish)\n",
            "144999 28.999799999999997 1.9611 Clark / Irish WRONG(Scottish)\n",
            "145999 29.199799999999996 0.3137 Whyte / Scottish CORRECT\n",
            "146999 29.3998 3.0425 Baz / Vietnamese WRONG(Arabic)\n",
            "147999 29.5998 2.2988 Keaveney / Russian WRONG(English)\n",
            "148999 29.799799999999998 3.4209 Ippitsusai / Polish WRONG(Japanese)\n",
            "149999 29.9998 0.0848 Pietri / Italian CORRECT\n",
            "150999 30.1998 1.4136 Hautem / Dutch CORRECT\n",
            "151999 30.3998 0.0457 Itagaki / Japanese CORRECT\n",
            "152999 30.5998 0.8645 Tzehmistrenko / Russian CORRECT\n",
            "153999 30.799799999999998 0.0859 Nguyen / Vietnamese CORRECT\n",
            "154999 30.9998 0.9812 Schindler / German CORRECT\n",
            "155999 31.1998 0.8588 Klimek / Polish CORRECT\n",
            "156999 31.3998 0.3843 Nelissen / Dutch CORRECT\n",
            "157999 31.599800000000002 2.4034 Ingram / Arabic WRONG(English)\n",
            "158999 31.7998 0.0143 Roijakker / Dutch CORRECT\n",
            "159999 31.9998 0.1073 Petrakis / Greek CORRECT\n",
            "160999 32.1998 0.2442 Sleiman / Arabic CORRECT\n",
            "161999 32.3998 3.7767 Maughan / Irish WRONG(English)\n",
            "162999 32.5998 0.7670 Feng / Chinese CORRECT\n",
            "163999 32.799800000000005 2.0686 Kloeter / German WRONG(Dutch)\n",
            "164999 32.9998 0.0147 Byon / Korean CORRECT\n",
            "165999 33.1998 3.0975 Raine / French WRONG(English)\n",
            "166999 33.3998 0.2799 Shiraishi / Japanese CORRECT\n",
            "167999 33.5998 1.9001 Bonnay / Irish WRONG(French)\n",
            "168999 33.799800000000005 0.7162 Nestrojil / Czech CORRECT\n",
            "169999 33.9998 2.6567 Welsh / German WRONG(English)\n",
            "170999 34.1998 2.1990 Andrukhovich / Czech WRONG(Russian)\n",
            "171999 34.3998 0.8824 Moy / Chinese CORRECT\n",
            "172999 34.5998 0.3776 Shim / Korean CORRECT\n",
            "173999 34.7998 4.4201 Ruhlyada / Japanese WRONG(Russian)\n",
            "174999 34.9998 1.6578 Niemec / Czech WRONG(Polish)\n",
            "175999 35.199799999999996 0.1806 Johnston / Scottish CORRECT\n",
            "176999 35.3998 1.1415 Stoep / Dutch CORRECT\n",
            "177999 35.599799999999995 2.3034 Havlice / English WRONG(Czech)\n",
            "178999 35.7998 0.1239 Paramoshkin / Russian CORRECT\n",
            "179999 35.9998 0.9042 Fleming / Scottish CORRECT\n",
            "180999 36.199799999999996 0.0418 Eliopoulos / Greek CORRECT\n",
            "181999 36.3998 1.1314 Albuquerque / French WRONG(Portuguese)\n",
            "182999 36.5998 1.2879 Vickars / Dutch WRONG(English)\n",
            "183999 36.7998 0.2108 Si / Korean CORRECT\n",
            "184999 36.9998 0.4457 Seif / Arabic CORRECT\n",
            "185999 37.199799999999996 0.1540 Peusen / Dutch CORRECT\n",
            "186999 37.3998 2.4174 Coma / Arabic WRONG(Czech)\n",
            "187999 37.5998 2.7499 Gouveia / Spanish WRONG(Portuguese)\n",
            "188999 37.7998 1.2118 Rojo / Spanish CORRECT\n",
            "189999 37.9998 0.3824 Fujikage / Japanese CORRECT\n",
            "190999 38.1998 0.9835 Kafka / Czech CORRECT\n",
            "191999 38.3998 2.5208 Conn / Dutch WRONG(Irish)\n",
            "192999 38.5998 0.2655 Tze / Chinese CORRECT\n",
            "193999 38.7998 1.0252 Royer / French CORRECT\n",
            "194999 38.9998 0.7103 Basurto / Spanish CORRECT\n",
            "195999 39.1998 0.4143 Gorka / Polish CORRECT\n",
            "196999 39.3998 0.0243 Chuhnovsky / Russian CORRECT\n",
            "197999 39.5998 1.2477 Kate / Japanese CORRECT\n",
            "198999 39.799800000000005 0.3220 Trieu / Vietnamese CORRECT\n",
            "199999 39.9998 2.0698 Neusser / Dutch WRONG(Czech)\n",
            "200999 40.1998 0.5064 Hew / Chinese CORRECT\n",
            "201999 40.3998 0.0411 Suk / Korean CORRECT\n",
            "202999 40.5998 0.2434 Agarev / Russian CORRECT\n",
            "203999 40.799800000000005 0.1877 Fung / Chinese CORRECT\n",
            "204999 40.9998 1.4834 Bazzi / Polish WRONG(Arabic)\n",
            "205999 41.199799999999996 0.0810 Ikoma / Japanese CORRECT\n",
            "206999 41.3998 3.0061 Schlantz / German WRONG(Czech)\n",
            "207999 41.599799999999995 2.0836 Kudrna / Dutch WRONG(Czech)\n",
            "208999 41.7998 4.0319 Donoghue / Irish WRONG(English)\n",
            "209999 41.9998 1.0375 Brady / Scottish WRONG(Irish)\n",
            "210999 42.199799999999996 1.0478 Pudel / Czech CORRECT\n",
            "211999 42.3998 0.2578 Lemaire / French CORRECT\n",
            "212999 42.5998 2.0069 Boyle / Irish WRONG(Scottish)\n",
            "213999 42.7998 0.4987 Mooren / Dutch CORRECT\n",
            "214999 42.9998 0.1221 Nahushev / Russian CORRECT\n",
            "215999 43.199799999999996 7.1706 Sereda / Spanish WRONG(Russian)\n",
            "216999 43.3998 0.0378 Majewski / Polish CORRECT\n",
            "217999 43.5998 2.6995 Rietveld / English WRONG(Dutch)\n",
            "218999 43.7998 0.4204 Faure / French CORRECT\n",
            "219999 43.9998 1.8712 Antipas / Portuguese WRONG(Greek)\n",
            "220999 44.1998 0.1771 Pefanis / Greek CORRECT\n",
            "221999 44.3998 1.6216 Iturburua / Czech WRONG(Spanish)\n",
            "222999 44.5998 1.3322 Jikin / Scottish WRONG(Russian)\n",
            "223999 44.7998 0.0351 Kassab / Arabic CORRECT\n",
            "224999 44.9998 0.6440 Kramer / German CORRECT\n",
            "225999 45.1998 1.0676 Dritsas / Greek CORRECT\n",
            "226999 45.3998 2.1073 Jedynak / Czech WRONG(Polish)\n",
            "227999 45.5998 2.5063 Lama / Spanish WRONG(Italian)\n",
            "228999 45.799800000000005 1.1839 Guadarrama / Japanese WRONG(Spanish)\n",
            "229999 45.9998 2.6660 Berger / German WRONG(French)\n",
            "230999 46.1998 2.6417 Yeung / Scottish WRONG(English)\n",
            "231999 46.3998 0.0220 Anderson / Scottish CORRECT\n",
            "232999 46.5998 0.8249 Shi / Korean WRONG(Chinese)\n",
            "233999 46.799800000000005 0.2804 Bellandi / Italian CORRECT\n",
            "234999 46.9998 1.0570 Laren / Dutch CORRECT\n",
            "235999 47.199799999999996 2.4196 Vann / Dutch WRONG(English)\n",
            "236999 47.3998 0.0025 Kouropoulos / Greek CORRECT\n",
            "237999 47.599799999999995 0.6701 Song / Korean CORRECT\n",
            "238999 47.7998 0.4708 Dubicki / Polish CORRECT\n",
            "239999 47.9998 1.2580 Hong / Chinese WRONG(Korean)\n",
            "240999 48.199799999999996 0.3396 Teng / Chinese CORRECT\n",
            "241999 48.3998 2.0639 Robert / French WRONG(Dutch)\n",
            "242999 48.5998 2.7508 Rees / Spanish WRONG(English)\n",
            "243999 48.7998 0.4673 Toma / Arabic CORRECT\n",
            "244999 48.9998 0.0651 Hadjiyianakies / Greek CORRECT\n",
            "245999 49.199799999999996 0.4212 Nunes / Portuguese CORRECT\n",
            "246999 49.3998 2.1875 Ventura / Czech WRONG(Italian)\n",
            "247999 49.5998 0.7144 Lim / Korean CORRECT\n",
            "248999 49.7998 2.7853 Bilonog / Polish WRONG(Russian)\n",
            "249999 49.9998 1.2167 Kang / Korean WRONG(Chinese)\n",
            "250999 50.1998 1.3735 Motta / Czech WRONG(Italian)\n",
            "251999 50.39979999999999 3.3299 Riha / Irish WRONG(Czech)\n",
            "252999 50.599799999999995 1.5725 Ngai / Italian WRONG(Korean)\n",
            "253999 50.7998 1.4429 Bainbridge / Spanish WRONG(English)\n",
            "254999 50.99979999999999 1.6314 Fonseca / Portuguese WRONG(Spanish)\n",
            "255999 51.199799999999996 0.8873 Cho / Korean CORRECT\n",
            "256999 51.3998 0.0869 Sook / Korean CORRECT\n",
            "257999 51.599799999999995 2.2198 Koza / Japanese WRONG(Czech)\n",
            "258999 51.7998 1.4007 Romijn / German WRONG(Dutch)\n",
            "259999 51.99979999999999 0.2280 Suarez / Spanish CORRECT\n",
            "260999 52.199799999999996 0.6127 Hackett / English CORRECT\n",
            "261999 52.3998 0.3937 Chong / Korean CORRECT\n",
            "262999 52.599799999999995 0.0454 Gulentsov / Russian CORRECT\n",
            "263999 52.7998 0.2685 Winograd / Polish CORRECT\n",
            "264999 52.99979999999999 0.4564 Sakulin / Russian CORRECT\n",
            "265999 53.199799999999996 0.1182 Antonakos / Greek CORRECT\n",
            "266999 53.3998 1.9560 Perina / Spanish WRONG(Czech)\n",
            "267999 53.599799999999995 0.7891 Koury / Arabic CORRECT\n",
            "268999 53.7998 4.7190 Gros / Portuguese WRONG(German)\n",
            "269999 53.9998 0.5193 Zuniga / Spanish CORRECT\n",
            "270999 54.199799999999996 0.1734 Bavidoff / Russian CORRECT\n",
            "271999 54.3998 0.1054 Vandroogenbroeck / Dutch CORRECT\n",
            "272999 54.5998 0.6359 Simpson / Scottish CORRECT\n",
            "273999 54.7998 0.2813 Distefano / Italian CORRECT\n",
            "274999 54.9998 2.0093 Hiro / Portuguese WRONG(Japanese)\n",
            "275999 55.199799999999996 0.8246 Houtum / Dutch CORRECT\n",
            "276999 55.3998 0.4420 Pesek / Czech CORRECT\n",
            "277999 55.5998 0.7961 Kafka / Polish WRONG(Czech)\n",
            "278999 55.7998 1.0381 Jirku / Czech CORRECT\n",
            "279999 55.9998 0.0273 Aswad / Arabic CORRECT\n",
            "280999 56.199799999999996 0.0430 Johnston / Scottish CORRECT\n",
            "281999 56.3998 3.7929 Sleiman / Dutch WRONG(Arabic)\n",
            "282999 56.5998 2.2539 Kennedy / English WRONG(Irish)\n",
            "283999 56.7998 4.6513 Chung / Korean WRONG(Vietnamese)\n",
            "284999 56.9998 0.1644 Nozaki / Japanese CORRECT\n",
            "285999 57.1998 0.1250 Trinh / Vietnamese CORRECT\n",
            "286999 57.3998 1.2990 Yun / Chinese WRONG(Korean)\n",
            "287999 57.5998 5.3726 Oborny / Irish WRONG(Czech)\n",
            "288999 57.799800000000005 4.2134 Sawyer / Arabic WRONG(English)\n",
            "289999 57.9998 0.3539 Fei / Chinese CORRECT\n",
            "290999 58.1998 1.3213 Pinheiro / French WRONG(Portuguese)\n",
            "291999 58.3998 0.7880 Castillion / Spanish CORRECT\n",
            "292999 58.5998 1.6256 Simpson / English WRONG(Scottish)\n",
            "293999 58.799800000000005 3.7109 Vakulski / Polish WRONG(Russian)\n",
            "294999 58.9998 0.9107 Simecek / Czech CORRECT\n",
            "295999 59.1998 0.3409 Matokai / Japanese CORRECT\n",
            "296999 59.3998 0.6567 Kaibara / Japanese CORRECT\n",
            "297999 59.5998 1.0677 Holzknecht / Scottish WRONG(German)\n",
            "298999 59.799800000000005 0.7085 Antoun / Arabic CORRECT\n",
            "299999 59.9998 0.6544 Ola / Spanish CORRECT\n",
            "300999 60.1998 0.5995 Adigamoff / Russian CORRECT\n",
            "301999 60.399800000000006 0.5280 Mackay / Scottish CORRECT\n",
            "302999 60.5998 0.2036 Ying / Chinese CORRECT\n",
            "303999 60.799800000000005 0.5806 Ventura / Portuguese CORRECT\n",
            "304999 60.99980000000001 0.9049 Meyer / German CORRECT\n",
            "305999 61.1998 0.6335 Medeiros / Portuguese CORRECT\n",
            "306999 61.399800000000006 0.0338 Yoon / Korean CORRECT\n",
            "307999 61.5998 0.4712 Koury / Arabic CORRECT\n",
            "308999 61.799800000000005 2.0070 Rompa / Czech WRONG(Dutch)\n",
            "309999 61.99980000000001 0.3526 Lando / Italian CORRECT\n",
            "310999 62.1998 1.4895 Wotherspoon / German WRONG(English)\n",
            "311999 62.399800000000006 0.5801 Ma / Korean CORRECT\n",
            "312999 62.5998 0.1519 Maloof / Arabic CORRECT\n",
            "313999 62.7998 0.7886 Gray / Scottish CORRECT\n",
            "314999 62.99979999999999 1.5052 Smith / German WRONG(Scottish)\n",
            "315999 63.199799999999996 2.8933 Gouveia / Spanish WRONG(Portuguese)\n",
            "316999 63.39979999999999 1.5309 Zipperer / Czech CORRECT\n",
            "317999 63.599799999999995 0.3190 Brown / Scottish CORRECT\n",
            "318999 63.7998 0.0635 Kaminaga / Japanese CORRECT\n",
            "319999 63.99979999999999 0.5173 Woodley / English CORRECT\n",
            "320999 64.1998 0.2578 Esteves / Portuguese CORRECT\n",
            "321999 64.3998 0.0341 Okimasa / Japanese CORRECT\n",
            "322999 64.5998 1.0318 Sault / French CORRECT\n",
            "323999 64.79979999999999 0.1039 Esteves / Portuguese CORRECT\n",
            "324999 64.9998 0.0224 Koulaxizis / Greek CORRECT\n",
            "325999 65.1998 1.0920 Moreno / Portuguese CORRECT\n",
            "326999 65.3998 1.6685 Richardson / Scottish WRONG(English)\n",
            "327999 65.5998 0.5765 Kouros / Greek CORRECT\n",
            "328999 65.79979999999999 0.8702 Fionn / Irish CORRECT\n",
            "329999 65.9998 4.3196 Gunn / Chinese WRONG(English)\n",
            "330999 66.1998 0.4841 Naifeh / Arabic CORRECT\n",
            "331999 66.3998 0.1153 Barbieri / Italian CORRECT\n",
            "332999 66.5998 0.6520 Santana / Portuguese CORRECT\n",
            "333999 66.7998 0.0029 Zdunowski / Polish CORRECT\n",
            "334999 66.9998 2.9352 Giang / Chinese WRONG(Vietnamese)\n",
            "335999 67.1998 2.6764 Koshin / Russian WRONG(Japanese)\n",
            "336999 67.3998 1.9194 Beek / Korean WRONG(Dutch)\n",
            "337999 67.5998 4.6536 Charlott / Scottish WRONG(Czech)\n",
            "338999 67.7998 1.6225 Adjemyan / Dutch WRONG(Russian)\n",
            "339999 67.9998 3.6765 Tosell / Scottish WRONG(Spanish)\n",
            "340999 68.1998 1.8218 Cruz / Spanish WRONG(Portuguese)\n",
            "341999 68.3998 0.1099 Que / Chinese CORRECT\n",
            "342999 68.5998 0.0945 Kaczka / Polish CORRECT\n",
            "343999 68.7998 1.3996 Delacruz / Portuguese WRONG(Spanish)\n",
            "344999 68.9998 1.4039 Frith / German WRONG(English)\n",
            "345999 69.1998 0.1402 Houlis / Greek CORRECT\n",
            "346999 69.3998 0.0362 Reijnders / Dutch CORRECT\n",
            "347999 69.5998 0.0060 Batukov / Russian CORRECT\n",
            "348999 69.7998 0.7899 Quirke / Irish CORRECT\n",
            "349999 69.99980000000001 3.4448 Serafin / Irish WRONG(Polish)\n",
            "350999 70.1998 2.0126 Salazar / Czech WRONG(Portuguese)\n",
            "351999 70.3998 0.2085 OKelly / Irish CORRECT\n",
            "352999 70.5998 1.0569 Iwahashi / Arabic WRONG(Japanese)\n",
            "353999 70.7998 0.8057 Szwarc / Polish CORRECT\n",
            "354999 70.99980000000001 0.3718 Mathghamhain / Irish CORRECT\n",
            "355999 71.1998 0.0512 Drivakis / Greek CORRECT\n",
            "356999 71.3998 0.4886 Shamon / Arabic CORRECT\n",
            "357999 71.5998 0.0968 Ron / Korean CORRECT\n",
            "358999 71.7998 4.4690 Morcos / Portuguese WRONG(Arabic)\n",
            "359999 71.99980000000001 0.1837 Duong / Vietnamese CORRECT\n",
            "360999 72.1998 1.2236 Galko / Polish WRONG(Russian)\n",
            "361999 72.3998 0.1299 Murov / Russian CORRECT\n",
            "362999 72.5998 0.5824 Ryoo / Korean CORRECT\n",
            "363999 72.7998 2.4665 Durant / French WRONG(English)\n",
            "364999 72.99980000000001 0.0402 Mustafa / Arabic CORRECT\n",
            "365999 73.19980000000001 0.2294 Said / Arabic CORRECT\n",
            "366999 73.3998 1.8991 Campos / Portuguese WRONG(Spanish)\n",
            "367999 73.5998 0.3304 Olivier / French CORRECT\n",
            "368999 73.7998 1.1634 Koeman / Dutch CORRECT\n",
            "369999 73.99980000000001 0.0138 Kawasawa / Japanese CORRECT\n",
            "370999 74.19980000000001 1.9857 OBree / Portuguese WRONG(Irish)\n",
            "371999 74.3998 2.1101 Desantigo / Portuguese WRONG(Spanish)\n",
            "372999 74.5998 0.4993 Peng / Chinese CORRECT\n",
            "373999 74.7998 0.3524 Bermudez / Spanish CORRECT\n",
            "374999 74.99980000000001 0.7732 Pape / French CORRECT\n",
            "375999 75.19980000000001 2.1621 Kaluza / Spanish WRONG(Polish)\n",
            "376999 75.3998 2.5222 Frei / Italian WRONG(German)\n",
            "377999 75.59979999999999 0.6036 Chin / Korean CORRECT\n",
            "378999 75.79979999999999 1.9743 Morcos / Portuguese WRONG(Arabic)\n",
            "379999 75.9998 0.5287 Sklavenitis / Greek CORRECT\n",
            "380999 76.1998 0.1292 Portelli / Italian CORRECT\n",
            "381999 76.3998 0.2010 Poniros / Greek CORRECT\n",
            "382999 76.5998 0.3894 Alves / Portuguese CORRECT\n",
            "383999 76.79979999999999 2.1360 Janz / Korean WRONG(German)\n",
            "384999 76.9998 0.1885 Nakao / Japanese CORRECT\n",
            "385999 77.1998 0.1048 Sarraf / Arabic CORRECT\n",
            "386999 77.3998 0.3196 Halabi / Arabic CORRECT\n",
            "387999 77.5998 3.1268 Trampota / Spanish WRONG(Czech)\n",
            "388999 77.79979999999999 1.4295 Puerta / Czech WRONG(Spanish)\n",
            "389999 77.9998 2.6708 Finan / Irish WRONG(English)\n",
            "390999 78.1998 0.1013 Cervenka / Czech CORRECT\n",
            "391999 78.3998 0.1439 Seghers / Dutch CORRECT\n",
            "392999 78.5998 0.3635 Asghar / Arabic CORRECT\n",
            "393999 78.7998 3.9227 William / Scottish WRONG(Irish)\n",
            "394999 78.9998 0.0286 Qing / Chinese CORRECT\n",
            "395999 79.1998 4.1736 Brookes / Greek WRONG(English)\n",
            "396999 79.3998 0.0291 Koustoubos / Greek CORRECT\n",
            "397999 79.5998 0.0736 Abbaticchio / Italian CORRECT\n",
            "398999 79.7998 0.0019 Vassilopulos / Greek CORRECT\n",
            "399999 79.9998 0.8785 Tomanek / Czech CORRECT\n",
            "400999 80.1998 1.2773 Lucey / English CORRECT\n",
            "401999 80.3998 1.8867 Stangl / German WRONG(Czech)\n",
            "402999 80.5998 0.0669 Byon / Korean CORRECT\n",
            "403999 80.7998 0.5326 Flann / Irish CORRECT\n",
            "404999 80.9998 1.6668 Malecha / Portuguese WRONG(Czech)\n",
            "405999 81.1998 0.1394 Do / Vietnamese CORRECT\n",
            "406999 81.3998 0.1950 Rzheshotarsky / Russian CORRECT\n",
            "407999 81.5998 0.9650 Woo / Korean WRONG(Chinese)\n",
            "408999 81.7998 0.5573 Rigatos / Greek CORRECT\n",
            "409999 81.9998 6.4093 Ohara / Japanese WRONG(English)\n",
            "410999 82.1998 0.5509 Ritchie / Scottish CORRECT\n",
            "411999 82.3998 0.0548 Shon / Korean CORRECT\n",
            "412999 82.5998 0.2842 Yeon / Korean CORRECT\n",
            "413999 82.7998 0.7593 Ganem / Arabic CORRECT\n",
            "414999 82.99980000000001 0.0551 Vedyaev / Russian CORRECT\n",
            "415999 83.1998 1.2886 Protz / Spanish WRONG(German)\n",
            "416999 83.3998 0.0894 Ferreira / Portuguese CORRECT\n",
            "417999 83.5998 0.3893 Ursler / German CORRECT\n",
            "418999 83.7998 3.1472 Silva / Czech WRONG(Portuguese)\n",
            "419999 83.99980000000001 0.1456 Wilson / Scottish CORRECT\n",
            "420999 84.1998 3.8028 Salazar / Arabic WRONG(Spanish)\n",
            "421999 84.3998 1.1671 Neil / Irish CORRECT\n",
            "422999 84.5998 1.9367 Blades / Spanish WRONG(Greek)\n",
            "423999 84.7998 2.3570 Gaudasinsky / Polish WRONG(Russian)\n",
            "424999 84.99980000000001 0.4383 Freitas / Portuguese CORRECT\n",
            "425999 85.19980000000001 0.6580 Cloutier / French CORRECT\n",
            "426999 85.3998 0.2115 Ortiz / Spanish CORRECT\n",
            "427999 85.5998 0.1420 Orellana / Spanish CORRECT\n",
            "428999 85.7998 0.2519 Pho / Vietnamese CORRECT\n",
            "429999 85.99980000000001 0.5066 Cihak / Czech CORRECT\n",
            "430999 86.19980000000001 0.8035 Semick / Czech CORRECT\n",
            "431999 86.3998 0.7025 Sutherland / Scottish CORRECT\n",
            "432999 86.5998 0.1741 Choi / Korean CORRECT\n",
            "433999 86.7998 1.5532 Ubina / Japanese WRONG(Spanish)\n",
            "434999 86.99980000000001 6.4798 Muirchertach / Czech WRONG(Irish)\n",
            "435999 87.19980000000001 1.7040 Paul / Vietnamese WRONG(French)\n",
            "436999 87.3998 2.0812 Wharton / Scottish WRONG(English)\n",
            "437999 87.5998 0.0967 Jiu / Chinese CORRECT\n",
            "438999 87.79979999999999 0.6313 Nunes / Portuguese CORRECT\n",
            "439999 87.9998 1.2277 Oatway / Irish WRONG(English)\n",
            "440999 88.1998 0.6742 Attwood / English CORRECT\n",
            "441999 88.3998 1.3494 Mcintosh / Arabic WRONG(Scottish)\n",
            "442999 88.5998 2.1638 Papageorge / Italian WRONG(Greek)\n",
            "443999 88.79979999999999 1.3475 Wang / Chinese WRONG(Korean)\n",
            "444999 88.9998 0.2230 Ghanem / Arabic CORRECT\n",
            "445999 89.1998 0.7342 Ma / Korean CORRECT\n",
            "446999 89.3998 1.3684 Sai / Chinese WRONG(Vietnamese)\n",
            "447999 89.5998 2.7778 Gatsuk / Arabic WRONG(Russian)\n",
            "448999 89.79979999999999 2.9461 Monfort / English WRONG(Czech)\n",
            "449999 89.9998 0.5255 Dobrolensky / Russian CORRECT\n",
            "450999 90.1998 1.6684 Kosmas / Arabic WRONG(Greek)\n",
            "451999 90.3998 0.9218 Seow / Chinese CORRECT\n",
            "452999 90.5998 0.1334 Mcgregor / Scottish CORRECT\n",
            "453999 90.79979999999999 1.5617 Mcgee / Italian WRONG(English)\n",
            "454999 90.9998 0.5885 Beauchene / French CORRECT\n",
            "455999 91.1998 2.6447 Chi / Korean WRONG(Chinese)\n",
            "456999 91.3998 0.4636 Gray / Scottish CORRECT\n",
            "457999 91.5998 1.4696 Rivman / French WRONG(Russian)\n",
            "458999 91.7998 2.5084 Lestrange / German WRONG(French)\n",
            "459999 91.9998 0.5042 Saliba / Arabic CORRECT\n",
            "460999 92.1998 0.0709 Passerini / Italian CORRECT\n",
            "461999 92.3998 0.5594 Shunji / Japanese CORRECT\n",
            "462999 92.5998 0.0062 Detkov / Russian CORRECT\n",
            "463999 92.7998 1.4266 Michel / Polish CORRECT\n",
            "464999 92.9998 0.7287 Kelly / Scottish CORRECT\n",
            "465999 93.1998 0.3582 Rodrigues / Portuguese CORRECT\n",
            "466999 93.3998 0.6070 Baba / Arabic CORRECT\n",
            "467999 93.5998 0.0815 Ri / Korean CORRECT\n",
            "468999 93.7998 0.6452 Chong / Korean CORRECT\n",
            "469999 93.9998 0.9111 Philpott / English CORRECT\n",
            "470999 94.1998 0.6891 Jeong / Korean CORRECT\n",
            "471999 94.3998 0.4978 Raimondi / Italian CORRECT\n",
            "472999 94.5998 0.3532 Ruadh / Irish CORRECT\n",
            "473999 94.7998 0.0114 Aswad / Arabic CORRECT\n",
            "474999 94.99980000000001 2.5368 Aleshite / French WRONG(German)\n",
            "475999 95.1998 0.0447 Fakhoury / Arabic CORRECT\n",
            "476999 95.3998 0.3187 Uhlik / Czech CORRECT\n",
            "477999 95.5998 1.9627 Li / Vietnamese WRONG(Korean)\n",
            "478999 95.7998 0.1346 So / Korean CORRECT\n",
            "479999 95.99980000000001 0.1162 Qin / Chinese CORRECT\n",
            "480999 96.1998 0.0416 Pefanis / Greek CORRECT\n",
            "481999 96.3998 1.3224 Mackenzie / Scottish CORRECT\n",
            "482999 96.5998 0.7390 Duncan / Irish CORRECT\n",
            "483999 96.7998 0.5602 Koenigsmann / German CORRECT\n",
            "484999 96.99980000000001 1.1090 Dertilis / Greek CORRECT\n",
            "485999 97.1998 3.4884 Diarmaid / Scottish WRONG(Irish)\n",
            "486999 97.3998 0.2126 Fan / Chinese CORRECT\n",
            "487999 97.5998 0.1814 Couture / French CORRECT\n",
            "488999 97.7998 0.0273 Spyridis / Greek CORRECT\n",
            "489999 97.99980000000001 0.7815 Machado / Portuguese CORRECT\n",
            "490999 98.19980000000001 0.0062 Bouloukos / Greek CORRECT\n",
            "491999 98.3998 1.5437 Reyes / English CORRECT\n",
            "492999 98.5998 0.1334 Naomhan / Irish CORRECT\n",
            "493999 98.7998 0.5968 Totah / Arabic CORRECT\n",
            "494999 98.99980000000001 0.4691 Deryabin / Russian CORRECT\n",
            "495999 99.19980000000001 0.6449 Vejvoda / Czech CORRECT\n",
            "496999 99.3998 0.0953 Vinh / Vietnamese CORRECT\n",
            "497999 99.5998 1.3627 Adimari / Japanese WRONG(Italian)\n",
            "498999 99.7998 0.7504 Baggi / Italian CORRECT\n",
            "499999 99.99980000000001 2.3147 Voneve / French WRONG(Czech)\n"
          ]
        },
        {
          "output_type": "display_data",
          "data": {
            "text/plain": [
              "<Figure size 640x480 with 1 Axes>"
            ],
            "image/png": "[encoded data removed]"
          },
          "metadata": {}
        }
      ],
      "source": [
        "current_loss = 0\n",
        "all_losses = []\n",
        "plot_steps, print_steps = 1000, 5000\n",
        "n_iters = 500000\n",
        "for i in range(n_iters):\n",
        "\n",
        "    category, line, category_tensor, line_tensor = random_training_example(category_lines, all_categories)\n",
        "    output, loss = train(line_tensor, category_tensor)\n",
        "\n",
        "    current_loss += loss\n",
        "\n",
        "    if (i+1)%plot_steps == 0:\n",
        "        all_losses.append(current_loss / plot_steps )\n",
        "        current_loss = 0\n",
        "\n",
        "    if (i+1)%plot_steps == 0:\n",
        "        guess = category_from_output(output)\n",
        "        correct = \"CORRECT\"  if guess == category else f\"WRONG({category})\"\n",
        "        print(f\"{i} {i/n_iters*100} {loss:.4f} {line} / {guess} {correct}\")\n",
        "\n",
        "plt.figure()\n",
        "plt.plot(all_losses)\n",
        "plt.show()\n"
      ]
    },
    {
      "cell_type": "code",
      "execution_count": 29,
      "id": "276b3a71",
      "metadata": {
        "id": "276b3a71"
      },
      "outputs": [],
      "source": [
        "def predict(input_line):\n",
        "    print(f\"\\n>{input_line}\")\n",
        "    with torch.no_grad():\n",
        "        line_tensor = line_to_tensor(input_line)\n",
        "        hidden = rnn.init_hidden()\n",
        "        for i in range(line_tensor.size()[0]):\n",
        "            output,hidden = rnn(line_tensor[i], hidden)\n",
        "            guess = category_from_output(output)\n",
        "\n",
        "        print(guess)\n"
      ]
    },
    {
      "cell_type": "code",
      "execution_count": null,
      "id": "f486d40d",
      "metadata": {
        "id": "f486d40d",
        "colab": {
          "base_uri": "https://localhost:8080/"
        },
        "outputId": "6211ec56-769a-4126-ad9f-499d41c282f6"
      },
      "outputs": [
        {
          "output_type": "stream",
          "name": "stdout",
          "text": [
            "Input : Dina\n",
            "\n",
            ">Dina\n",
            "Vietnamese\n",
            "Input : Gorge\n",
            "\n",
            ">Gorge\n",
            "French\n",
            "Input : Aya\n",
            "\n",
            ">Aya\n",
            "Korean\n",
            "Input : Ahmed\n",
            "\n",
            ">Ahmed\n",
            "Arabic\n",
            "Input : Malek\n",
            "\n",
            ">Malek\n",
            "Czech\n"
          ]
        }
      ],
      "source": [
        "while True:\n",
        "    sentence = input (\"Input : \")\n",
        "    if sentence == \"quit\":\n",
        "        break\n",
        "    predict(sentence)"
      ]
    },
    {
      "cell_type": "code",
      "execution_count": null,
      "id": "875930ae",
      "metadata": {
        "id": "875930ae"
      },
      "outputs": [],
      "source": []
    }
  ],
  "metadata": {
    "kernelspec": {
      "display_name": "Python 3 (ipykernel)",
      "language": "python",
      "name": "python3"
    },
    "language_info": {
      "codemirror_mode": {
        "name": "ipython",
        "version": 3
      },
      "file_extension": ".py",
      "mimetype": "text/x-python",
      "name": "python",
      "nbconvert_exporter": "python",
      "pygments_lexer": "ipython3",
      "version": "3.11.5"
    },
    "colab": {
      "provenance": []
    }
  },
  "nbformat": 4,
  "nbformat_minor": 5
}